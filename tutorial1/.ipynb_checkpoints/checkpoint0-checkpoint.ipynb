{
 "cells": [
  {
   "cell_type": "markdown",
   "id": "bb4947e4",
   "metadata": {
    "colab_type": "text",
    "id": "0a8IYAJUshu1"
   },
   "source": [
    "# Exercises (Optional)"
   ]
  },
  {
   "cell_type": "markdown",
   "id": "a15f7f36",
   "metadata": {},
   "source": [
    "These exercises are not required to complete however are good to do for practice. (Not to be submitted on git)\n",
    "\n",
    "These exercises are a mix of Python and pandas/EDA practice. Most should be no more than a few lines of code! "
   ]
  },
  {
   "cell_type": "code",
   "execution_count": 3,
   "id": "f3068246",
   "metadata": {
    "colab": {},
    "colab_type": "code",
    "id": "Jo6wuTgkshu1"
   },
   "outputs": [
    {
     "name": "stdout",
     "output_type": "stream",
     "text": [
      "[1, 2, 3, 4, 5, 6]\n",
      "[4, 5, 6]\n",
      "[6, 5, 4, 3, 2, 1]\n",
      "[1, 4, 9, 16, 25, 36]\n"
     ]
    }
   ],
   "source": [
    "import numpy as np\n",
    "# here is a Python list:\n",
    "\n",
    "a = [1, 2, 3, 4, 5, 6]\n",
    "print(a)\n",
    "\n",
    "# get a list containing the last 3 elements of a\n",
    "last_three = a[-3:]\n",
    "print(last_three)\n",
    "\n",
    "# reverse the list\n",
    "reverse = a[::-1]\n",
    "print(reverse)\n",
    "\n",
    "# get a list where each entry in a is squared (so the new list is [1, 4, 9, 16, 25, 36])\n",
    "squared = [number ** 2 for number in a]\n",
    "print(squared)"
   ]
  },
  {
   "cell_type": "code",
   "execution_count": 4,
   "id": "f675a0c8",
   "metadata": {
    "colab": {},
    "colab_type": "code",
    "id": "qANtg5kQshu2"
   },
   "outputs": [
    {
     "name": "stdout",
     "output_type": "stream",
     "text": [
      "[1 2 3 4 5 6]\n"
     ]
    }
   ],
   "source": [
    "# create a numpy array from this list\n",
    "b = np.array(a) # change this\n",
    "print(b)"
   ]
  },
  {
   "cell_type": "code",
   "execution_count": 5,
   "id": "6e0b266e",
   "metadata": {
    "colab": {},
    "colab_type": "code",
    "id": "91CXRflLshu4"
   },
   "outputs": [
    {
     "name": "stdout",
     "output_type": "stream",
     "text": [
      "3.5\n"
     ]
    }
   ],
   "source": [
    "# find the mean of b\n",
    "avg = np.mean(b)\n",
    "print(avg)"
   ]
  },
  {
   "cell_type": "code",
   "execution_count": 6,
   "id": "0ebd7e36",
   "metadata": {
    "colab": {},
    "colab_type": "code",
    "id": "ZJZFwzQfshu9"
   },
   "outputs": [
    {
     "name": "stdout",
     "output_type": "stream",
     "text": [
      "[ 1  4  9 16 25 36]\n"
     ]
    }
   ],
   "source": [
    "# get a list where each entry in b is squared (so the new numpy array is [1, 4, 9, 16, 25, 36])\n",
    "# use a different (numpy-specific) approach\n",
    "b_squared = np.power(b, 2)\n",
    "print(b_squared)"
   ]
  },
  {
   "cell_type": "code",
   "execution_count": 7,
   "id": "2454e709",
   "metadata": {
    "colab": {},
    "colab_type": "code",
    "id": "ajbA5rCCshu5"
   },
   "outputs": [
    {
     "name": "stdout",
     "output_type": "stream",
     "text": [
      "[[1 2 3]\n",
      " [4 5 6]]\n"
     ]
    }
   ],
   "source": [
    "# change b from a length-6 list to a 2x3 matrix\n",
    "b = np.reshape(b, (2, 3))\n",
    "print(b)"
   ]
  },
  {
   "cell_type": "code",
   "execution_count": 8,
   "id": "16c7a746",
   "metadata": {
    "colab": {},
    "colab_type": "code",
    "id": "wancU_PWshu6"
   },
   "outputs": [
    {
     "name": "stdout",
     "output_type": "stream",
     "text": [
      "[2. 5.]\n"
     ]
    }
   ],
   "source": [
    "# find the mean value of each row\n",
    "row_means = b.mean(axis=1)\n",
    "print(row_means)"
   ]
  },
  {
   "cell_type": "code",
   "execution_count": 9,
   "id": "f112564f",
   "metadata": {
    "colab": {},
    "colab_type": "code",
    "id": "N3hXBrBtshu7"
   },
   "outputs": [
    {
     "name": "stdout",
     "output_type": "stream",
     "text": [
      "[2.5 3.5 4.5]\n"
     ]
    }
   ],
   "source": [
    "# find the mean value of each column\n",
    "column_means = b.mean(axis=0)\n",
    "print(column_means)"
   ]
  },
  {
   "cell_type": "code",
   "execution_count": 10,
   "id": "58e9adb5",
   "metadata": {
    "colab": {},
    "colab_type": "code",
    "id": "GvbO8gBXshu8"
   },
   "outputs": [
    {
     "name": "stdout",
     "output_type": "stream",
     "text": [
      "[3 6]\n"
     ]
    }
   ],
   "source": [
    "# find the third column of b\n",
    "third_col = b[:,2]\n",
    "print(third_col)"
   ]
  },
  {
   "cell_type": "code",
   "execution_count": 13,
   "id": "5030f2b1",
   "metadata": {
    "colab": {},
    "colab_type": "code",
    "id": "WzCQ5HOJshvA"
   },
   "outputs": [
    {
     "data": {
      "text/html": [
       "<div>\n",
       "<style scoped>\n",
       "    .dataframe tbody tr th:only-of-type {\n",
       "        vertical-align: middle;\n",
       "    }\n",
       "\n",
       "    .dataframe tbody tr th {\n",
       "        vertical-align: top;\n",
       "    }\n",
       "\n",
       "    .dataframe thead th {\n",
       "        text-align: right;\n",
       "    }\n",
       "</style>\n",
       "<table border=\"1\" class=\"dataframe\">\n",
       "  <thead>\n",
       "    <tr style=\"text-align: right;\">\n",
       "      <th></th>\n",
       "      <th>beverage_category</th>\n",
       "      <th>beverage</th>\n",
       "      <th>beverage_prep</th>\n",
       "      <th>calories</th>\n",
       "      <th>total fat</th>\n",
       "      <th>trans fat</th>\n",
       "      <th>saturated fat</th>\n",
       "      <th>sodium</th>\n",
       "      <th>total carbohydrates</th>\n",
       "      <th>cholesterol</th>\n",
       "      <th>dietary fibre</th>\n",
       "      <th>sugars</th>\n",
       "      <th>protein</th>\n",
       "      <th>vitamin a</th>\n",
       "      <th>vitamin c</th>\n",
       "      <th>calcium</th>\n",
       "      <th>iron</th>\n",
       "      <th>caffeine</th>\n",
       "    </tr>\n",
       "  </thead>\n",
       "  <tbody>\n",
       "    <tr>\n",
       "      <th>0</th>\n",
       "      <td>coffee</td>\n",
       "      <td>brewed coffee</td>\n",
       "      <td>Short</td>\n",
       "      <td>3</td>\n",
       "      <td>0.1</td>\n",
       "      <td>0.0</td>\n",
       "      <td>0.0</td>\n",
       "      <td>0</td>\n",
       "      <td>5</td>\n",
       "      <td>0</td>\n",
       "      <td>0</td>\n",
       "      <td>0</td>\n",
       "      <td>0.3</td>\n",
       "      <td>0</td>\n",
       "      <td>0</td>\n",
       "      <td>0</td>\n",
       "      <td>0.0</td>\n",
       "      <td>175.0</td>\n",
       "    </tr>\n",
       "    <tr>\n",
       "      <th>1</th>\n",
       "      <td>coffee</td>\n",
       "      <td>brewed coffee</td>\n",
       "      <td>Tall</td>\n",
       "      <td>4</td>\n",
       "      <td>0.1</td>\n",
       "      <td>0.0</td>\n",
       "      <td>0.0</td>\n",
       "      <td>0</td>\n",
       "      <td>10</td>\n",
       "      <td>0</td>\n",
       "      <td>0</td>\n",
       "      <td>0</td>\n",
       "      <td>0.5</td>\n",
       "      <td>0</td>\n",
       "      <td>0</td>\n",
       "      <td>0</td>\n",
       "      <td>0.0</td>\n",
       "      <td>260.0</td>\n",
       "    </tr>\n",
       "    <tr>\n",
       "      <th>2</th>\n",
       "      <td>coffee</td>\n",
       "      <td>brewed coffee</td>\n",
       "      <td>Grande</td>\n",
       "      <td>5</td>\n",
       "      <td>0.1</td>\n",
       "      <td>0.0</td>\n",
       "      <td>0.0</td>\n",
       "      <td>0</td>\n",
       "      <td>10</td>\n",
       "      <td>0</td>\n",
       "      <td>0</td>\n",
       "      <td>0</td>\n",
       "      <td>1.0</td>\n",
       "      <td>0</td>\n",
       "      <td>0</td>\n",
       "      <td>0</td>\n",
       "      <td>0.0</td>\n",
       "      <td>330.0</td>\n",
       "    </tr>\n",
       "    <tr>\n",
       "      <th>3</th>\n",
       "      <td>coffee</td>\n",
       "      <td>brewed coffee</td>\n",
       "      <td>Venti</td>\n",
       "      <td>5</td>\n",
       "      <td>0.1</td>\n",
       "      <td>0.0</td>\n",
       "      <td>0.0</td>\n",
       "      <td>0</td>\n",
       "      <td>10</td>\n",
       "      <td>0</td>\n",
       "      <td>0</td>\n",
       "      <td>0</td>\n",
       "      <td>1.0</td>\n",
       "      <td>0</td>\n",
       "      <td>0</td>\n",
       "      <td>2</td>\n",
       "      <td>0.0</td>\n",
       "      <td>410.0</td>\n",
       "    </tr>\n",
       "    <tr>\n",
       "      <th>4</th>\n",
       "      <td>classic espresso drinks</td>\n",
       "      <td>caff latte</td>\n",
       "      <td>Short Nonfat Milk</td>\n",
       "      <td>70</td>\n",
       "      <td>0.1</td>\n",
       "      <td>0.1</td>\n",
       "      <td>0.0</td>\n",
       "      <td>5</td>\n",
       "      <td>75</td>\n",
       "      <td>10</td>\n",
       "      <td>0</td>\n",
       "      <td>9</td>\n",
       "      <td>6.0</td>\n",
       "      <td>10</td>\n",
       "      <td>0</td>\n",
       "      <td>20</td>\n",
       "      <td>0.0</td>\n",
       "      <td>75.0</td>\n",
       "    </tr>\n",
       "    <tr>\n",
       "      <th>...</th>\n",
       "      <td>...</td>\n",
       "      <td>...</td>\n",
       "      <td>...</td>\n",
       "      <td>...</td>\n",
       "      <td>...</td>\n",
       "      <td>...</td>\n",
       "      <td>...</td>\n",
       "      <td>...</td>\n",
       "      <td>...</td>\n",
       "      <td>...</td>\n",
       "      <td>...</td>\n",
       "      <td>...</td>\n",
       "      <td>...</td>\n",
       "      <td>...</td>\n",
       "      <td>...</td>\n",
       "      <td>...</td>\n",
       "      <td>...</td>\n",
       "      <td>...</td>\n",
       "    </tr>\n",
       "    <tr>\n",
       "      <th>237</th>\n",
       "      <td>frappuccino blended crme</td>\n",
       "      <td>strawberries  crme (without whipped cream)</td>\n",
       "      <td>Soymilk</td>\n",
       "      <td>320</td>\n",
       "      <td>3.2</td>\n",
       "      <td>0.4</td>\n",
       "      <td>0.0</td>\n",
       "      <td>0</td>\n",
       "      <td>250</td>\n",
       "      <td>67</td>\n",
       "      <td>1</td>\n",
       "      <td>64</td>\n",
       "      <td>5.0</td>\n",
       "      <td>6</td>\n",
       "      <td>8</td>\n",
       "      <td>20</td>\n",
       "      <td>10.0</td>\n",
       "      <td>0.0</td>\n",
       "    </tr>\n",
       "    <tr>\n",
       "      <th>238</th>\n",
       "      <td>frappuccino blended crme</td>\n",
       "      <td>vanilla bean (without whipped cream)</td>\n",
       "      <td>Tall Nonfat Milk</td>\n",
       "      <td>170</td>\n",
       "      <td>0.1</td>\n",
       "      <td>0.1</td>\n",
       "      <td>0.0</td>\n",
       "      <td>0</td>\n",
       "      <td>160</td>\n",
       "      <td>39</td>\n",
       "      <td>0</td>\n",
       "      <td>38</td>\n",
       "      <td>4.0</td>\n",
       "      <td>6</td>\n",
       "      <td>0</td>\n",
       "      <td>10</td>\n",
       "      <td>0.0</td>\n",
       "      <td>0.0</td>\n",
       "    </tr>\n",
       "    <tr>\n",
       "      <th>239</th>\n",
       "      <td>frappuccino blended crme</td>\n",
       "      <td>vanilla bean (without whipped cream)</td>\n",
       "      <td>Whole Milk</td>\n",
       "      <td>200</td>\n",
       "      <td>3.5</td>\n",
       "      <td>2.0</td>\n",
       "      <td>0.1</td>\n",
       "      <td>10</td>\n",
       "      <td>160</td>\n",
       "      <td>39</td>\n",
       "      <td>0</td>\n",
       "      <td>38</td>\n",
       "      <td>3.0</td>\n",
       "      <td>6</td>\n",
       "      <td>0</td>\n",
       "      <td>10</td>\n",
       "      <td>0.0</td>\n",
       "      <td>0.0</td>\n",
       "    </tr>\n",
       "    <tr>\n",
       "      <th>240</th>\n",
       "      <td>frappuccino blended crme</td>\n",
       "      <td>vanilla bean (without whipped cream)</td>\n",
       "      <td>Soymilk</td>\n",
       "      <td>180</td>\n",
       "      <td>1.5</td>\n",
       "      <td>0.2</td>\n",
       "      <td>0.0</td>\n",
       "      <td>0</td>\n",
       "      <td>160</td>\n",
       "      <td>37</td>\n",
       "      <td>1</td>\n",
       "      <td>35</td>\n",
       "      <td>3.0</td>\n",
       "      <td>4</td>\n",
       "      <td>0</td>\n",
       "      <td>10</td>\n",
       "      <td>6.0</td>\n",
       "      <td>0.0</td>\n",
       "    </tr>\n",
       "    <tr>\n",
       "      <th>241</th>\n",
       "      <td>frappuccino blended crme</td>\n",
       "      <td>vanilla bean (without whipped cream)</td>\n",
       "      <td>Grande Nonfat Milk</td>\n",
       "      <td>240</td>\n",
       "      <td>0.1</td>\n",
       "      <td>0.1</td>\n",
       "      <td>0.0</td>\n",
       "      <td>5</td>\n",
       "      <td>230</td>\n",
       "      <td>56</td>\n",
       "      <td>0</td>\n",
       "      <td>55</td>\n",
       "      <td>5.0</td>\n",
       "      <td>8</td>\n",
       "      <td>0</td>\n",
       "      <td>15</td>\n",
       "      <td>0.0</td>\n",
       "      <td>0.0</td>\n",
       "    </tr>\n",
       "  </tbody>\n",
       "</table>\n",
       "<p>242 rows × 18 columns</p>\n",
       "</div>"
      ],
      "text/plain": [
       "            beverage_category                                    beverage  \\\n",
       "0                      coffee                               brewed coffee   \n",
       "1                      coffee                               brewed coffee   \n",
       "2                      coffee                               brewed coffee   \n",
       "3                      coffee                               brewed coffee   \n",
       "4     classic espresso drinks                                  caff latte   \n",
       "..                        ...                                         ...   \n",
       "237  frappuccino blended crme  strawberries  crme (without whipped cream)   \n",
       "238  frappuccino blended crme        vanilla bean (without whipped cream)   \n",
       "239  frappuccino blended crme        vanilla bean (without whipped cream)   \n",
       "240  frappuccino blended crme        vanilla bean (without whipped cream)   \n",
       "241  frappuccino blended crme        vanilla bean (without whipped cream)   \n",
       "\n",
       "          beverage_prep  calories  total fat  trans fat  saturated fat  \\\n",
       "0                 Short         3        0.1        0.0            0.0   \n",
       "1                  Tall         4        0.1        0.0            0.0   \n",
       "2                Grande         5        0.1        0.0            0.0   \n",
       "3                 Venti         5        0.1        0.0            0.0   \n",
       "4     Short Nonfat Milk        70        0.1        0.1            0.0   \n",
       "..                  ...       ...        ...        ...            ...   \n",
       "237             Soymilk       320        3.2        0.4            0.0   \n",
       "238    Tall Nonfat Milk       170        0.1        0.1            0.0   \n",
       "239          Whole Milk       200        3.5        2.0            0.1   \n",
       "240             Soymilk       180        1.5        0.2            0.0   \n",
       "241  Grande Nonfat Milk       240        0.1        0.1            0.0   \n",
       "\n",
       "     sodium  total carbohydrates  cholesterol  dietary fibre  sugars  protein  \\\n",
       "0         0                    5            0              0       0      0.3   \n",
       "1         0                   10            0              0       0      0.5   \n",
       "2         0                   10            0              0       0      1.0   \n",
       "3         0                   10            0              0       0      1.0   \n",
       "4         5                   75           10              0       9      6.0   \n",
       "..      ...                  ...          ...            ...     ...      ...   \n",
       "237       0                  250           67              1      64      5.0   \n",
       "238       0                  160           39              0      38      4.0   \n",
       "239      10                  160           39              0      38      3.0   \n",
       "240       0                  160           37              1      35      3.0   \n",
       "241       5                  230           56              0      55      5.0   \n",
       "\n",
       "     vitamin a  vitamin c  calcium  iron  caffeine  \n",
       "0            0          0        0   0.0     175.0  \n",
       "1            0          0        0   0.0     260.0  \n",
       "2            0          0        0   0.0     330.0  \n",
       "3            0          0        2   0.0     410.0  \n",
       "4           10          0       20   0.0      75.0  \n",
       "..         ...        ...      ...   ...       ...  \n",
       "237          6          8       20  10.0       0.0  \n",
       "238          6          0       10   0.0       0.0  \n",
       "239          6          0       10   0.0       0.0  \n",
       "240          4          0       10   6.0       0.0  \n",
       "241          8          0       15   0.0       0.0  \n",
       "\n",
       "[242 rows x 18 columns]"
      ]
     },
     "execution_count": 13,
     "metadata": {},
     "output_type": "execute_result"
    }
   ],
   "source": [
    "# load in the \"starbucks.csv\" dataset\n",
    "import pandas as pd\n",
    "import os\n",
    "d = os.getcwd()\n",
    "data = pd.read_csv('../data/starbucks.csv')\n",
    "data"
   ]
  },
  {
   "cell_type": "code",
   "execution_count": 14,
   "id": "ba8e5bf1",
   "metadata": {
    "colab": {},
    "colab_type": "code",
    "id": "rIoxaSxHshvB"
   },
   "outputs": [
    {
     "name": "stdout",
     "output_type": "stream",
     "text": [
      "193.87190082644628\n"
     ]
    }
   ],
   "source": [
    "# this is nutritional info for starbucks items\n",
    "# let's see if we can answer some questions\n",
    "\n",
    "# what is the average # calories across all items?\n",
    "calories_list = data[\"calories\"]\n",
    "total = 0\n",
    "for i in range(len(calories_list)):\n",
    "    total += calories_list[i]\n",
    "avg = total / len(calories_list)\n",
    "print(avg)"
   ]
  },
  {
   "cell_type": "code",
   "execution_count": 15,
   "id": "344fba2b",
   "metadata": {
    "colab": {},
    "colab_type": "code",
    "id": "ABX7i49FshvD"
   },
   "outputs": [
    {
     "name": "stdout",
     "output_type": "stream",
     "text": [
      "9\n",
      "{'classic espresso drinks', 'smoothies', 'frappuccino blended crme', 'tazo tea drinks', 'signature espresso drinks', 'frappuccino light blended coffee', 'coffee', 'frappuccino blended coffee', 'shaken iced beverages'}\n"
     ]
    }
   ],
   "source": [
    "# how many different categories of beverages are there?\n",
    "beverage_categories = set()\n",
    "bev_cat_list = data[\"beverage_category\"]\n",
    "for i in range(len(bev_cat_list)):\n",
    "    beverage_categories.add(bev_cat_list[i])\n",
    "num_bev_cat = len(beverage_categories)\n",
    "print(num_bev_cat)\n",
    "print(beverage_categories)"
   ]
  },
  {
   "cell_type": "code",
   "execution_count": 16,
   "id": "bc30170f",
   "metadata": {
    "colab": {},
    "colab_type": "code",
    "id": "P9QatZAzshvE"
   },
   "outputs": [
    {
     "name": "stdout",
     "output_type": "stream",
     "text": [
      "The average number of calories in coffee is 4\n",
      "The average number of calories in classic espresso drinks is 140\n",
      "The average number of calories in signature espresso drinks is 250\n",
      "The average number of calories in tazo tea drinks is 177\n",
      "The average number of calories in shaken iced beverages is 114\n",
      "The average number of calories in smoothies is 282\n",
      "The average number of calories in frappuccino blended coffee is 276\n",
      "The average number of calories in frappuccino light blended coffee is 162\n",
      "The average number of calories in frappuccino blended crme is 233\n"
     ]
    }
   ],
   "source": [
    "# what is the average # calories for each beverage category?\n",
    "total_calories = {}\n",
    "num_drinks_by_cat = {}\n",
    "for i in range(len(calories_list)):\n",
    "    if bev_cat_list[i] not in total_calories:\n",
    "        total_calories.update({bev_cat_list[i]: calories_list[i]})\n",
    "        num_drinks_by_cat.update({bev_cat_list[i]: 1})\n",
    "    else:\n",
    "        total_calories[bev_cat_list[i]] += calories_list[i]\n",
    "        num_drinks_by_cat[bev_cat_list[i]] += 1\n",
    "for key in total_calories:\n",
    "    avg_calories = total_calories[key] / num_drinks_by_cat[key]\n",
    "    print(\"The average number of calories in %s is %d\" % (key, avg_calories))"
   ]
  },
  {
   "cell_type": "code",
   "execution_count": 17,
   "id": "a4e32dc8",
   "metadata": {
    "colab": {},
    "colab_type": "code",
    "id": "y8KEpYNkshvG"
   },
   "outputs": [
    {
     "name": "stdout",
     "output_type": "stream",
     "text": [
      "The beverage preparation with the most sugar on average is Whole Milk with 55 grams of sugar.\n"
     ]
    }
   ],
   "source": [
    "# what beverage preparation includes the most sugar on average?\n",
    "sugar_list = data[\"sugars\"]\n",
    "bev_prep_list = data[\"beverage_prep\"]\n",
    "total_sugar = {}\n",
    "num_drinks_by_prep = {}\n",
    "for i in range(len(sugar_list)):\n",
    "    if bev_prep_list[i] not in total_sugar:\n",
    "        total_sugar.update({bev_prep_list[i]: sugar_list[i]})\n",
    "        num_drinks_by_prep.update({bev_prep_list[i]: 1})\n",
    "    else:\n",
    "        total_sugar[bev_prep_list[i]] += sugar_list[i]\n",
    "        num_drinks_by_prep[bev_prep_list[i]] += 1\n",
    "avg_sugar = {}\n",
    "most_avg_sugar_key = bev_prep_list[0]\n",
    "for key in total_sugar:\n",
    "    bev_avg_sugar = total_sugar[key] / num_drinks_by_prep[key]\n",
    "    avg_sugar.update({key: bev_avg_sugar})\n",
    "    if bev_avg_sugar > avg_sugar[most_avg_sugar_key]:\n",
    "        most_avg_sugar_key = key\n",
    "print(\"The beverage preparation with the most sugar on average is %s with %d grams of sugar.\" % (most_avg_sugar_key, avg_sugar[most_avg_sugar_key]))"
   ]
  },
  {
   "cell_type": "code",
   "execution_count": 18,
   "id": "d2f5617b",
   "metadata": {
    "colab": {},
    "colab_type": "code",
    "id": "MnbCEJw8shvH"
   },
   "outputs": [
    {
     "name": "stdout",
     "output_type": "stream",
     "text": [
      "The average percent daily value calcium content in brewed coffee is 0\n",
      "The average percent daily value calcium content in caff latte is 35\n",
      "The average percent daily value calcium content in caff mocha (without whipped cream) is 30\n",
      "The average percent daily value calcium content in vanilla latte (or other flavoured latte) is 32\n",
      "The average percent daily value calcium content in caff americano is 1\n",
      "The average percent daily value calcium content in cappuccino is 22\n",
      "The average percent daily value calcium content in espresso is 0\n",
      "The average percent daily value calcium content in skinny latte (any flavour) is 33\n",
      "The average percent daily value calcium content in caramel macchiato is 28\n",
      "The average percent daily value calcium content in white chocolate mocha (without whipped cream) is 41\n",
      "The average percent daily value calcium content in hot chocolate (without whipped cream) is 35\n",
      "The average percent daily value calcium content in caramel apple spice (without whipped cream) is 0\n",
      "The average percent daily value calcium content in tazo tea is 0\n",
      "The average percent daily value calcium content in tazo chai tea latte is 21\n",
      "The average percent daily value calcium content in tazo green tea latte is 39\n",
      "The average percent daily value calcium content in tazo fullleaf tea latte is 20\n",
      "The average percent daily value calcium content in tazo fullleaf red tea latte (vanilla rooibos) is 20\n",
      "The average percent daily value calcium content in iced brewed coffee (with classic syrup) is 0\n",
      "The average percent daily value calcium content in iced brewed coffee (with milk  classic syrup) is 8\n",
      "The average percent daily value calcium content in shaken iced tazo tea (with classic syrup) is 0\n",
      "The average percent daily value calcium content in shaken iced tazo tea lemonade (with classic syrup) is 0\n",
      "The average percent daily value calcium content in banana chocolate smoothie is 20\n",
      "The average percent daily value calcium content in orange mango banana smoothie is 10\n",
      "The average percent daily value calcium content in strawberry banana smoothie is 10\n",
      "The average percent daily value calcium content in coffee is 12\n",
      "The average percent daily value calcium content in mocha (without whipped cream) is 12\n",
      "The average percent daily value calcium content in caramel (without whipped cream) is 12\n",
      "The average percent daily value calcium content in java chip (without whipped cream) is 12\n",
      "The average percent daily value calcium content in mocha is 11\n",
      "The average percent daily value calcium content in caramel is 11\n",
      "The average percent daily value calcium content in java chip is 11\n",
      "The average percent daily value calcium content in strawberries  crme (without whipped cream) is 15\n",
      "The average percent daily value calcium content in vanilla bean (without whipped cream) is 11\n"
     ]
    }
   ],
   "source": [
    "# what is the average % daily value calcium content for each beverage?\n",
    "dv_calc = data[\"calcium\"]\n",
    "bev_list = data[\"beverage\"]\n",
    "total_calc = {}\n",
    "num_drinks_by_bev = {}\n",
    "for i in range(len(dv_calc)):\n",
    "    if bev_list[i] not in total_calc:\n",
    "        total_calc.update({bev_list[i]: dv_calc[i]})\n",
    "        num_drinks_by_bev.update({bev_list[i]: 1})\n",
    "    else:\n",
    "        total_calc[bev_list[i]] += dv_calc[i]\n",
    "        num_drinks_by_bev[bev_list[i]] += 1\n",
    "for key in total_calc:\n",
    "    avg_calc = total_calc[key] / num_drinks_by_bev[key]\n",
    "    print(\"The average percent daily value calcium content in %s is %d\" % (key, avg_calc))"
   ]
  },
  {
   "cell_type": "code",
   "execution_count": 57,
   "id": "09bc6758",
   "metadata": {
    "colab": {},
    "colab_type": "code",
    "id": "Nv5dksj_shvJ"
   },
   "outputs": [
    {
     "name": "stdout",
     "output_type": "stream",
     "text": [
      "Naitian should drink \n"
     ]
    },
    {
     "name": "stderr",
     "output_type": "stream",
     "text": [
      "/Users/isabelwang/opt/anaconda3/lib/python3.7/site-packages/ipykernel_launcher.py:10: RuntimeWarning: invalid value encountered in double_scalars\n",
      "  # Remove the CWD from sys.path while we load stuff.\n"
     ]
    }
   ],
   "source": [
    "# It's bulking season. What drink should Naitian get so that he maximizes protein but minimizes calories?\n",
    "# (you can use more than one line for this one)\n",
    "# there are multiple valid approaches you can take for this (with different answers)\n",
    "# I know that you want more calories for bulking season but whatever this is MDST, not Michigan Muscle Club okay\n",
    "bevs = data.groupby(\"beverage\")\n",
    "df1 = bevs[['protein','calories']].agg({\"calories\": \"mean\", \"protein\": \"mean\"})\n",
    "max_protein_to_calorie_ratio = 0\n",
    "name_of_bev = \"\"\n",
    "for i in range(len(df1.index)):\n",
    "    p_c_ratio = df1.iloc[i]['protein']/df1.iloc[i]['calories']\n",
    "    if(p_c_ratio > max_protein_to_calorie_ratio):\n",
    "        max_protein_to_calorie_ratio = p_c_ratio\n",
    "        name_of_bev = df1.iloc[i]\n",
    "print(\"Naitian should drink \")"
   ]
  },
  {
   "cell_type": "code",
   "execution_count": null,
   "id": "5dedd06a",
   "metadata": {},
   "outputs": [],
   "source": [
    "# plot the distribution of the number of calories in drinks using matplotlib\n",
    "import matplotlib.pyplot as plt"
   ]
  },
  {
   "cell_type": "code",
   "execution_count": null,
   "id": "000016ca",
   "metadata": {},
   "outputs": [],
   "source": [
    "# plot the same distribution using seaborn. what about a density plot instead?\n",
    "import seaborn as sns"
   ]
  },
  {
   "cell_type": "code",
   "execution_count": null,
   "id": "3104d88b",
   "metadata": {},
   "outputs": [],
   "source": [
    "# plot calories against total fat using seaborn\n"
   ]
  },
  {
   "cell_type": "code",
   "execution_count": null,
   "id": "33158850",
   "metadata": {},
   "outputs": [],
   "source": [
    "# plot the distribution of calories in Short, Tall, Grande, and Venti drinks\n",
    "# (you can use multiple lines for this)\n",
    "# twist: you should also include the Nonfat Milk drinks that also have an associated size.\n",
    "\n",
    "# you can decide how you want to visualize this. Colors? Small multiples? Density vs histogram?\n",
    "# the starbucks is your oyster.\n"
   ]
  }
 ],
 "metadata": {
  "kernelspec": {
   "display_name": "Python 3 (ipykernel)",
   "language": "python",
   "name": "python3"
  },
  "language_info": {
   "codemirror_mode": {
    "name": "ipython",
    "version": 3
   },
   "file_extension": ".py",
   "mimetype": "text/x-python",
   "name": "python",
   "nbconvert_exporter": "python",
   "pygments_lexer": "ipython3",
   "version": "3.7.6"
  }
 },
 "nbformat": 4,
 "nbformat_minor": 5
}
