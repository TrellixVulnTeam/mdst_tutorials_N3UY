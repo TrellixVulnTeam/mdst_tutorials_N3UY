{
 "cells": [
  {
   "cell_type": "markdown",
   "metadata": {},
   "source": [
    "<h1> Checkpoint:</h1>\n",
    "\n",
    "**Looking to see completion and effort in completing the checkpoint. It's okay if it's not correct**\n",
    "\n",
    "Based off this dataset with school financial, enrollment, and achievement data, we are interested in what information is a useful indicator of student performance at the state level.\n",
    "\n",
    "This question is a bit too big for a checkpoint, however. Instead, we want you to look at smaller questions related to our overall goal. Here's the overview:\n",
    "\n",
    "1. Choose a specific test to focus on\n",
    ">Math/Reading for 4/8 grade\n",
    "* Pick or create features to use\n",
    ">Will all the features be useful in predicting test score? Are some more important than others? Should you standardize, bin, or scale the data?\n",
    "* Explore the data as it relates to that test\n",
    ">Create 2 well-labeled visualizations (graphs), each with a caption describing the graph and what it tells us about the data\n",
    "* Create training and testing data\n",
    ">Do you want to train on all the data? Only data from the last 10 years? Only Michigan data?\n",
    "* Train a ML model to predict outcome \n",
    ">Pick if you want to do a regression or classification task. For both cases, defined _exactly_ what you want to predict, and pick any model in sklearn to use (see sklearn <a href=\"https://scikit-learn.org/stable/modules/linear_model.html\">regressors</a> and <a href=\"https://scikit-learn.org/stable/auto_examples/classification/plot_classifier_comparison.html\">classifiers</a>).\n",
    "* Summarize your findings\n",
    ">Write a 1 paragraph summary of what you did and make a recommendation about if and how student performance can be predicted\n",
    "\n",
    "** Include comments throughout your code! Every cleanup and preprocessing task should be documented.\n",
    "\n",
    "\n",
    "Of course, if you're finding this assignment interesting (and we really hope you do!), you are welcome to do more than the requirements! For example, you may want to see if expenditure affects 4th graders more than 8th graders. Maybe you want to look into the extended version of this dataset and see how factors like sex and race are involved. You can include all your work in this notebook when you turn it in -- just always make sure you explain what you did and interpret your results. Good luck!"
   ]
  },
  {
   "cell_type": "markdown",
   "metadata": {},
   "source": [
    "<h2> Data Cleanup </h2>\n",
    "\n",
    "Import numpy, pandas, matplotlib, and seaborn\n",
    "\n",
    "(Feel free to import other libraries!)"
   ]
  },
  {
   "cell_type": "code",
   "execution_count": 120,
   "metadata": {},
   "outputs": [],
   "source": [
    "import pandas as pd\n",
    "import numpy as np\n",
    "import matplotlib.pyplot as plt\n",
    "import seaborn as sns"
   ]
  },
  {
   "cell_type": "markdown",
   "metadata": {},
   "source": [
    "Load in the \"states_edu.csv\" dataset and take a look at the head of the data"
   ]
  },
  {
   "cell_type": "code",
   "execution_count": 121,
   "metadata": {},
   "outputs": [],
   "source": [
    "df = pd.read_csv('../data/states_edu.csv')"
   ]
  },
  {
   "cell_type": "markdown",
   "metadata": {},
   "source": [
    "You should always familiarize yourself with what each column in the dataframe represents. \\ Read about the states_edu dataset here: https://www.kaggle.com/noriuk/us-education-datasets-unification-project"
   ]
  },
  {
   "cell_type": "markdown",
   "metadata": {},
   "source": [
    "Use this space to rename columns, deal with missing data, etc. _(optional)_"
   ]
  },
  {
   "cell_type": "code",
   "execution_count": 148,
   "metadata": {},
   "outputs": [],
   "source": [
    "# let's rename our columns to make them more intuitive\n",
    "df.rename({\n",
    "    'GRADES_PK_G':'ENROLL_PREK',\n",
    "    'GRADES_KG_G':'ENROLL_KINDER',\n",
    "    'GRADES_4_G':'ENROLL_4',\n",
    "    'GRADES_8_G':'ENROLL_8',\n",
    "    'GRADES_12_G':'ENROLL_12',\n",
    "    'GRADES_1_8_G':'ENROLL_PRIMARY',\n",
    "    'GRADES_9_12_G':'ENROLL_HS',\n",
    "    'GRADES_ALL_G':'ENROLL_ALL',\n",
    "    'ENROLL':'ENROLL_ALL_EST'\n",
    "    },\n",
    "    axis=1,inplace=True)\n",
    "#inplace return copy of dataframe\n",
    "df['ENROLL_ALL'] = df['ENROLL_ALL'].fillna(df.ENROLL_PREK+df.ENROLL_PRIMARY+df.ENROLL_HS)\n",
    "df.ENROLL_ALL_EST = df.ENROLL_ALL_EST.fillna(df.ENROLL_ALL)"
   ]
  },
  {
   "cell_type": "markdown",
   "metadata": {},
   "source": [
    "<h2>Exploratory Data Analysis (EDA) </h2>"
   ]
  },
  {
   "cell_type": "markdown",
   "metadata": {},
   "source": [
    "Chosen Outcome Variable for Test: **<Math for 8 grade>**   (Ex. Math for 8th grade)\n",
    "\n",
    "**(hit `Enter` to edit)**\n",
    "\n",
    "Outcome Score in the questions refers to the outcome variable you chose here."
   ]
  },
  {
   "cell_type": "markdown",
   "metadata": {},
   "source": [
    "How many different years of data are in our dataset? Use a pandas function."
   ]
  },
  {
   "cell_type": "code",
   "execution_count": 127,
   "metadata": {},
   "outputs": [
    {
     "data": {
      "text/plain": [
       "33"
      ]
     },
     "execution_count": 127,
     "metadata": {},
     "output_type": "execute_result"
    }
   ],
   "source": [
    "len(df['YEAR'].unique().tolist())"
   ]
  },
  {
   "cell_type": "markdown",
   "metadata": {},
   "source": [
    "Let's compare Michigan to Ohio. Which state has the higher average outcome score across all years?"
   ]
  },
  {
   "cell_type": "code",
   "execution_count": 128,
   "metadata": {},
   "outputs": [
    {
     "name": "stdout",
     "output_type": "stream",
     "text": [
      "Ohio\n"
     ]
    }
   ],
   "source": [
    "michigan_avg = df[df['STATE'] == \"MICHIGAN\"]['AVG_MATH_8_SCORE'].mean()\n",
    "ohio_avg = df[df['STATE'] == 'OHIO']['AVG_MATH_8_SCORE'].mean()\n",
    "if(michigan_avg > ohio_avg):\n",
    "    print(\"Michigan\")\n",
    "else:\n",
    "    print(\"Ohio\")"
   ]
  },
  {
   "cell_type": "markdown",
   "metadata": {},
   "source": [
    "Find the average for your outcome score across all states in 2019"
   ]
  },
  {
   "cell_type": "code",
   "execution_count": 129,
   "metadata": {},
   "outputs": [
    {
     "data": {
      "text/plain": [
       "281.2641509433962"
      ]
     },
     "execution_count": 129,
     "metadata": {},
     "output_type": "execute_result"
    }
   ],
   "source": [
    "df[df[\"YEAR\"] == 2019]['AVG_MATH_8_SCORE'].mean()"
   ]
  },
  {
   "cell_type": "markdown",
   "metadata": {},
   "source": [
    "Find the maximum outcome score for every state. Hint: there's a function that allows you to do this easily"
   ]
  },
  {
   "cell_type": "code",
   "execution_count": 130,
   "metadata": {},
   "outputs": [
    {
     "data": {
      "text/plain": [
       "STATE\n",
       "ALABAMA                 269.0\n",
       "ALASKA                  283.0\n",
       "ARIZONA                 283.0\n",
       "ARKANSAS                279.0\n",
       "CALIFORNIA              277.0\n",
       "COLORADO                292.0\n",
       "CONNECTICUT             289.0\n",
       "DELAWARE                284.0\n",
       "DISTRICT_OF_COLUMBIA    269.0\n",
       "DODEA                   293.0\n",
       "FLORIDA                 281.0\n",
       "GEORGIA                 281.0\n",
       "HAWAII                  281.0\n",
       "IDAHO                   287.0\n",
       "ILLINOIS                285.0\n",
       "INDIANA                 288.0\n",
       "IOWA                    286.0\n",
       "KANSAS                  290.0\n",
       "KENTUCKY                282.0\n",
       "LOUISIANA               273.0\n",
       "MAINE                   289.0\n",
       "MARYLAND                288.0\n",
       "MASSACHUSETTS           301.0\n",
       "MICHIGAN                280.0\n",
       "MINNESOTA               295.0\n",
       "MISSISSIPPI             274.0\n",
       "MISSOURI                286.0\n",
       "MONTANA                 293.0\n",
       "NATIONAL                285.0\n",
       "NEBRASKA                288.0\n",
       "NEVADA                  278.0\n",
       "NEW_HAMPSHIRE           296.0\n",
       "NEW_JERSEY              296.0\n",
       "NEW_MEXICO              274.0\n",
       "NEW_YORK                283.0\n",
       "NORTH_CAROLINA          286.0\n",
       "NORTH_DAKOTA            293.0\n",
       "OHIO                    290.0\n",
       "OKLAHOMA                279.0\n",
       "OREGON                  285.0\n",
       "PENNSYLVANIA            290.0\n",
       "RHODE_ISLAND            284.0\n",
       "SOUTH_CAROLINA          282.0\n",
       "SOUTH_DAKOTA            291.0\n",
       "TENNESSEE               280.0\n",
       "TEXAS                   290.0\n",
       "UTAH                    287.0\n",
       "VERMONT                 295.0\n",
       "VIRGINIA                290.0\n",
       "WASHINGTON              290.0\n",
       "WEST_VIRGINIA           274.0\n",
       "WISCONSIN               289.0\n",
       "WYOMING                 289.0\n",
       "Name: AVG_MATH_8_SCORE, dtype: float64"
      ]
     },
     "execution_count": 130,
     "metadata": {},
     "output_type": "execute_result"
    }
   ],
   "source": [
    "df2 = df.groupby('STATE')\n",
    "df2['AVG_MATH_8_SCORE'].max()"
   ]
  },
  {
   "cell_type": "markdown",
   "metadata": {},
   "source": [
    "<h2> Feature Selection </h2>\n",
    "\n",
    "After exploring the data, you now have to choose features that you would use to predict the performance of the students on a chosen test (chosen outcome variable). By the way, you can also create your own features. For example, perhaps you figured that maybe a state's expenditure per student may affect their overall academic performance so you create a expenditure_per_student feature.\n",
    "\n",
    "Use this space to modify or create features"
   ]
  },
  {
   "cell_type": "code",
   "execution_count": 133,
   "metadata": {},
   "outputs": [],
   "source": [
    "df['SUPPORT_SERVICES_EXPENDITURE_PER_STUDENT'] = df['SUPPORT_SERVICES_EXPENDITURE'] / df['ENROLL_ALL']\n",
    "df['INSTRUCTION_EXPENDITURE_PER_STUDENT'] = df['INSTRUCTION_EXPENDITURE'] / df['ENROLL_ALL']"
   ]
  },
  {
   "cell_type": "markdown",
   "metadata": {},
   "source": [
    "Final feature list: **<Instruction Expenditure per Student, Support Services Expenditure per Student\\>**"
   ]
  },
  {
   "cell_type": "markdown",
   "metadata": {},
   "source": [
    "Feature selection justification: **<I picked these features because they represent the total amount of time, money, and energy the state has spent on educating its students, such as hiring teachers, preparing practice material, and instructing its students. Therefore, I think that higher values on these features would correlate with higher scores on the math exam for 8th grade.\\>**"
   ]
  },
  {
   "cell_type": "markdown",
   "metadata": {},
   "source": [
    "<h2>Visualization</h2>\n",
    "\n",
    "Use any graph you wish to see the relationship of your chosen outcome variable with any features you chose\n",
    "\n",
    "**Visualization 1**"
   ]
  },
  {
   "cell_type": "code",
   "execution_count": 134,
   "metadata": {},
   "outputs": [
    {
     "data": {
      "text/plain": [
       "Text(0.5, 1.0, 'Plot of Support Services Expenditure per Student vs. 8th Grade Math Score')"
      ]
     },
     "execution_count": 134,
     "metadata": {},
     "output_type": "execute_result"
    },
    {
     "data": {
      "image/png": "[encoded data removed]",
      "text/plain": [
       "<Figure size 432x288 with 1 Axes>"
      ]
     },
     "metadata": {
      "needs_background": "light"
     },
     "output_type": "display_data"
    }
   ],
   "source": [
    "df.plot.scatter(x='SUPPORT_SERVICES_EXPENDITURE_PER_STUDENT',y='AVG_MATH_8_SCORE')\n",
    "plt.xlabel('Support Services Expenditure per Student')\n",
    "plt.ylabel('8th Grade Math Score')\n",
    "plt.title('Plot of Support Services Expenditure per Student vs. 8th Grade Math Score')"
   ]
  },
  {
   "cell_type": "markdown",
   "metadata": {},
   "source": [
    "**<This plot shows the relationship between the support services expenditure per student and the average 8th grade math score. As we can see from the data in the upper left-hand area of the scatter plot, there is a strong, positive, linear association between these two variables. There are also some outliers below this area.>**"
   ]
  },
  {
   "cell_type": "markdown",
   "metadata": {},
   "source": [
    "**Visualization 2**"
   ]
  },
  {
   "cell_type": "code",
   "execution_count": 135,
   "metadata": {},
   "outputs": [
    {
     "data": {
      "text/plain": [
       "Text(0.5, 1.0, 'Plot of Instruction Expenditure per Student vs. 8th Grade Math Score')"
      ]
     },
     "execution_count": 135,
     "metadata": {},
     "output_type": "execute_result"
    },
    {
     "data": {
      "image/png": "[encoded data removed]",
      "text/plain": [
       "<Figure size 432x288 with 1 Axes>"
      ]
     },
     "metadata": {
      "needs_background": "light"
     },
     "output_type": "display_data"
    }
   ],
   "source": [
    "df.plot.scatter(x='INSTRUCTION_EXPENDITURE_PER_STUDENT',y='AVG_MATH_8_SCORE')\n",
    "plt.xlabel('Instruction Expenditure per Student')\n",
    "plt.ylabel('8th Grade Math Score')\n",
    "plt.title('Plot of Instruction Expenditure per Student vs. 8th Grade Math Score')"
   ]
  },
  {
   "cell_type": "markdown",
   "metadata": {},
   "source": [
    "**<This plot shows the relationship between the instruction expenditure per student and the average 8th grade math score. As we can see from the data in the upper left-hand area of the scatter plot, there is a strong, positive, linear association between these two variables. There are also some outliers below this area.>**"
   ]
  },
  {
   "cell_type": "markdown",
   "metadata": {},
   "source": [
    "<h2> Data Creation </h2>\n",
    "\n",
    "_Use this space to create train/test data_"
   ]
  },
  {
   "cell_type": "code",
   "execution_count": 204,
   "metadata": {},
   "outputs": [],
   "source": [
    "from sklearn.model_selection import train_test_split"
   ]
  },
  {
   "cell_type": "code",
   "execution_count": 259,
   "metadata": {},
   "outputs": [],
   "source": [
    "df.dropna(subset=['AVG_MATH_8_SCORE'], inplace=True)\n",
    "X = df[['INSTRUCTION_EXPENDITURE_PER_STUDENT','SUPPORT_SERVICES_EXPENDITURE_PER_STUDENT']].dropna()\n",
    "y = df.loc[X.index]['AVG_MATH_8_SCORE']"
   ]
  },
  {
   "cell_type": "code",
   "execution_count": 260,
   "metadata": {},
   "outputs": [],
   "source": [
    "X_train, X_test, y_train, y_test = train_test_split(\n",
    "     X, y, test_size=.2, random_state=0)"
   ]
  },
  {
   "cell_type": "markdown",
   "metadata": {},
   "source": [
    "<h2> Prediction </h2>"
   ]
  },
  {
   "cell_type": "markdown",
   "metadata": {},
   "source": [
    "ML Models Resource: https://medium.com/@vijaya.beeravalli/comparison-of-machine-learning-classification-models-for-credit-card-default-data-c3cf805c9a5a"
   ]
  },
  {
   "cell_type": "markdown",
   "metadata": {},
   "source": [
    "Chosen ML task: **<REGRESSION>**"
   ]
  },
  {
   "cell_type": "code",
   "execution_count": 261,
   "metadata": {},
   "outputs": [],
   "source": [
    "# import your sklearn class here\n",
    "from sklearn.linear_model import LinearRegression"
   ]
  },
  {
   "cell_type": "code",
   "execution_count": 262,
   "metadata": {},
   "outputs": [],
   "source": [
    "# create your model here\n",
    "model = LinearRegression()"
   ]
  },
  {
   "cell_type": "code",
   "execution_count": 264,
   "metadata": {},
   "outputs": [
    {
     "name": "stdout",
     "output_type": "stream",
     "text": [
      "266.22201529806284\n",
      "[ 4.19950281 -3.37018229]\n",
      "R^2: 0.286320\n",
      "Mean absolute error: 7.132159\n",
      "Root mean squared error: 9.214356\n"
     ]
    }
   ],
   "source": [
    "model.fit(X_train, y_train)\n",
    "print(model.intercept_)\n",
    "print(model.coef_)\n",
    "# R**2 value describes how well a linear model fits the data\n",
    "print(\"R^2: %04f\" % model.score(X_test, y_test))\n",
    "# mean absolute error\n",
    "print(\"Mean absolute error: %04f\" % np.mean(np.abs(model.predict(X_test)-y_test)))\n",
    "# root mean squared error -- penalizes large errors\n",
    "print(\"Root mean squared error: %04f\" % np.mean((model.predict(X_test)-y_test)**2)**0.5)"
   ]
  },
  {
   "cell_type": "code",
   "execution_count": 265,
   "metadata": {},
   "outputs": [],
   "source": [
    "y_pred = model.predict(X_test)"
   ]
  },
  {
   "cell_type": "code",
   "execution_count": 227,
   "metadata": {},
   "outputs": [],
   "source": [
    "# FOR CLASSIFICATION ONLY:\n",
    "# from sklearn.metrics import plot_confusion_matrix\n",
    "\n",
    "# plot_confusion_matrix(model, X_test, y_test,\n",
    "#                         cmap=plt.cm.Blues)"
   ]
  },
  {
   "cell_type": "code",
   "execution_count": 266,
   "metadata": {},
   "outputs": [
    {
     "name": "stderr",
     "output_type": "stream",
     "text": [
      "/Users/isabelwang/opt/anaconda3/lib/python3.7/site-packages/sklearn/base.py:451: UserWarning: X does not have valid feature names, but LinearRegression was fitted with feature names\n",
      "  \"X does not have valid feature names, but\"\n"
     ]
    },
    {
     "data": {
      "text/plain": [
       "Text(0, 0.5, 'Math 8 Score')"
      ]
     },
     "execution_count": 266,
     "metadata": {},
     "output_type": "execute_result"
    },
    {
     "data": {
      "image/png": "[encoded data removed]",
      "text/plain": [
       "<Figure size 864x432 with 1 Axes>"
      ]
     },
     "metadata": {
      "needs_background": "light"
     },
     "output_type": "display_data"
    }
   ],
   "source": [
    "# FOR REGRESSION ONLY: (pick a single column to visualize results)\n",
    "\n",
    "# Results from this graph _should not_ be used as a part of your results -- it is just here to help with intuition. \n",
    "# Instead, look at the error values and individual intercepts.\n",
    "\n",
    "\n",
    "col_name = 'INSTRUCTION_EXPENDITURE_PER_STUDENT'\n",
    "col_index = X_train.columns.get_loc(col_name)\n",
    "\n",
    "f = plt.figure(figsize=(12,6))\n",
    "plt.scatter(X_train[col_name], y_train, color = \"red\")\n",
    "plt.scatter(X_train[col_name], model.predict(X_train), color = \"green\")\n",
    "plt.scatter(X_test[col_name], model.predict(X_test), color = \"blue\")\n",
    "\n",
    "new_x = np.linspace(X_train[col_name].min(),X_train[col_name].max(),200)\n",
    "intercept = model.predict([X_train.sort_values(col_name).iloc[0]]) - X_train[col_name].min()*model.coef_[col_index]\n",
    "plt.plot(new_x, intercept+new_x*model.coef_[col_index])\n",
    "\n",
    "plt.legend(['controlled model','true training','predicted training','predicted testing'])\n",
    "plt.xlabel(col_name)\n",
    "plt.ylabel('Math 8 Score')"
   ]
  },
  {
   "cell_type": "markdown",
   "metadata": {},
   "source": [
    "<h2> Summary </h2>"
   ]
  },
  {
   "cell_type": "markdown",
   "metadata": {},
   "source": [
    "**<WRITE A PARAGRAPH SUMMARIZING YOUR WORK AND FINDINGS>**\n",
    "**I wanted to find the impact of each state's instructional and support services expenditure on an average student's performance in 8th grade, as measured by their math score on the NAEP exam. Because each state's total expenditure in each of these categories is different based on the size of the state's population, I standardized these measures by finding the instruction expenditure per student and the support services expenditure per student. I defined Instruction Expenditure per Student as the Instruction Expenditure divided by the total enrollment (ENROLL_ALL) and Support Services Expenditure per Student as the Support Services Expenditure divided by the total enrollment (ENROLL_ALL). After running a linear regression on these explanatory variables versus the average Mathematics score for 8th graders, I found a positively-sloped fit line with a R^2 = 0.286320, mean absolute error = 7.132159, and root mean squared error = 9.214356. The fit line's positive slope indicates that there is a positive correlation between the two explanatory variables, instruction expenditure per student and support services expenditure per student, and the response variable, the average 8th grade math score on the NAEP exam. The small R^2 value indicates that this correlation is relatively weak, however, and that the linear model does not fit the data very well. This is further confirmed by the large mean absolute error and root mean squared error, which penalizes large deviations in the data from the fit line. States that spend more money on education for every student, as quantified by the instruction expenditure per student and support services expenditure per student, may tend to have students who score higher on their exams, as quantified by the average 8th grade math score on the NAEP exams, although as found by this study, the evidence for such a correlation is weak.**"
   ]
  }
 ],
 "metadata": {
  "kernelspec": {
   "display_name": "Python 3 (ipykernel)",
   "language": "python",
   "name": "python3"
  },
  "language_info": {
   "codemirror_mode": {
    "name": "ipython",
    "version": 3
   },
   "file_extension": ".py",
   "mimetype": "text/x-python",
   "name": "python",
   "nbconvert_exporter": "python",
   "pygments_lexer": "ipython3",
   "version": "3.7.6"
  }
 },
 "nbformat": 4,
 "nbformat_minor": 4
}
